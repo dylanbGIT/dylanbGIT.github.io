{
 "cells": [
  {
   "cell_type": "markdown",
   "metadata": {},
   "source": [
    "# Accessibility is a problem for the NYC subway\n",
    "\n",
    "In 1979, the MTA was sued over the lack of accessibility in the NYC subway system. Today less than a quarter of platforms are accessible, and only a couple dozen stations are slated for upgrades by 2020. The MTA is now facing another two class action lawsuits brought by Disability Rights Advocates.\n",
    "\n",
    "### For the MTA to rapidly reduce transit disparities for customers with disabilities, it needs to prioritize accessibility upgrades at stations that most impact those customers.\n",
    "\n",
    "Stations are currently selected for upgrades by considering their ridership, the availability of transfers to other subway lines or modes of transport, and whether the station is at the end of a line. However, except for the last criteria, these criteria favor stations in midtown Manhattan. Census data reveals that most New Yorkers with disabilities live far uptown or in outer boroughs.\n",
    "\n",
    "### I am combining census data with MTA fare card and turnstile data to impute commuting patterns of New Yorkers with disabilities. Combined with analysis of subway network connectivity, this will reveal which platforms can be upgraded for maximum impact.\n",
    "\n",
    "Dive deeper by <a href=\"https://dylanbgit.github.io/category/background-perspective.html\">learning more about the problem</a>, <a href=\"https://dylanbgit.github.io/category/demographics.html\">exploring how geography and demographics impact system performance</a>, and <a href=\"https://dylanbgit.github.io/category/strategy-analysis.html\">examining the network graph of the subway</a>.\n",
    "\n",
    "<table class=\"image\">\n",
    "<caption align=\"bottom\">A NYC subway map, showing what the system looks like without inaccessible platforms. Credit: Matthew Ahn, Subway Record</caption>\n",
    "<tr><td><a href=\"https://subwayrecord.files.wordpress.com/2015/03/ada-subway-map-w-key.jpg\"><img src=\"https://subwayrecord.files.wordpress.com/2015/03/ada-subway-map-w-key.jpg\" width=\"600px\"></a></td></tr>\n",
    "</table>"
   ]
  },
  {
   "cell_type": "code",
   "execution_count": null,
   "metadata": {
    "collapsed": true
   },
   "outputs": [],
   "source": []
  }
 ],
 "metadata": {
  "kernelspec": {
   "display_name": "Python 3",
   "language": "python",
   "name": "python3"
  },
  "language_info": {
   "codemirror_mode": {
    "name": "ipython",
    "version": 3
   },
   "file_extension": ".py",
   "mimetype": "text/x-python",
   "name": "python",
   "nbconvert_exporter": "python",
   "pygments_lexer": "ipython3",
   "version": "3.6.0"
  }
 },
 "nbformat": 4,
 "nbformat_minor": 2
}
