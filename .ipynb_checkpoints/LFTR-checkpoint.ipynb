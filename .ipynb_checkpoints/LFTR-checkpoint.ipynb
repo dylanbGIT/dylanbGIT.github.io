{
 "cells": [
  {
   "cell_type": "markdown",
   "metadata": {},
   "source": [
    "# Accessibility is a problem for the NYC subway\n",
    "\n",
    "The New York City subway is the dominant mode of travel for residents commuting to and from work. However, according to data provided by the city, only 113 of 473 platforms are accessible by ADA-compliant elevators. While the bus fleet is 100% accessible and the MTA provides a paratransit service, these modes of transportation are not well-suited for interborough travel in a timely manner, particularly if the destination is a busy area. Given that an individual with a disability is significantly more likely to be unemployed and impoverished than one without a disability, subway accessibility is an important social justice issue.\n",
    "\n",
    "<table class=\"image\">\n",
    "<caption align=\"bottom\">Credit: Matthew Ahn, Subway Record</caption>\n",
    "<tr><td><a href=\"https://subwayrecord.files.wordpress.com/2015/03/ada-subway-map-w-key.jpg\"><img src=\"https://subwayrecord.files.wordpress.com/2015/03/ada-subway-map-w-key.jpg\" width=\"600px\"></a></td></tr>\n",
    "</table>\n",
    "\n",
    "\n",
    "### The MTA's current plan for increasing accessibility\n",
    "\n",
    "In 1994, the MTA identified 100 \"Key Stations\" to prioritize for ADA compliance by 2020. Approximately 3/4 of the stations identified are already accessible, leaving approximately 25 stations due for upgrade in the next few years. They selected the stations by considering their ridership, the availability of transfers to other subway lines or modes of transport, and location relative to centers of activity. Stations at the end of subway lines were also prioritized. Thus far I have had little success in finding documents detailing what stations they plan to upgrade or quantitative specifics about their methodology for selecting those stations. However, even simply considering the aforementioned qualitative criteria, there are notable absences such as whether a station is located in an area where disability is common or rare among residents or whether a station sees elevated traffic from individuals with disabilities. Consideration of how commuting patterns might differ between individuals with and without disabilities may be important for determining the most effective elevator placement.\n",
    "\n",
    "### Taking a more data-driven approach\n",
    "\n",
    "The first question I wanted to ask is how well the current distribution of accessible stations reflects the distribution of New Yorkers with ambulatory disabilities. To answer this I obtained estimates of the number of individuals with ambulatory disabilities living in each census tract in New York City (excluding Staten Island) from the American Community Survey 2015 5-year estimates (Table S1810). I've also obtained turnstile and elevator status data from the MTA, as well as the location subway platforms. The MTA does not include accessibility information in any data set I have found, so I scraped [Wikipedia](https://en.wikipedia.org/wiki/List_of_accessible_New_York_City_Subway_stations) for the accessible stations and train lines (i.e. platforms). I am using this data to quantify:\n",
    "\n",
    "* How correlated is accessible station location with like trip origins/destinations?\n",
    "* Where would adding elevators restore maximum connectivity in the subway graph? Where would it minimize the total distance between all pairs of nodes?\n",
    "* How much could we reduce trip times by adding elevators, and where would they have the most impact?\n",
    "\n",
    "### \"I want to live near the train\"\n",
    "\n",
    "Some of the most powerful predictors of housing costs in NYC is proximity to trains and proximity to Manhattan. The exclusion of people with disabilities from the labor force pushes them towards lower cost neighborhoods where there is often lower density of train stations. However, one might expect that despite the lower density of stations, that less restrictive station designs and more open space might allow for a high portion of such stations to be accessible. \n",
    "\n",
    "Below are two maps showing the locations of accessible (purple) and inaccessible (red) platforms overlaid on the distribution of people with ambulatory disabilities. The first map shades census tract regions by the  counts of individuals with ambulatory disabilities while the second map shades the regions by the percentage (i.e. population with ambulatory disability / total disability in the tract)\n",
    "\n",
    "<iframe width=\"100%\" height=\"520\" frameborder=\"0\" src=\"https://gmork.carto.com/builder/858844d9-3cfb-45ba-a473-420e3b66e74d/embed\" allowfullscreen webkitallowfullscreen mozallowfullscreen oallowfullscreen msallowfullscreen></iframe>\n",
    "\n",
    "<iframe width=\"100%\" height=\"520\" frameborder=\"0\" src=\"https://gmork.carto.com/builder/8e4957b0-18fb-11e7-b7eb-0e233c30368f/embed\" allowfullscreen webkitallowfullscreen mozallowfullscreen oallowfullscreen msallowfullscreen></iframe>"
   ]
  },
  {
   "cell_type": "code",
   "execution_count": null,
   "metadata": {
    "collapsed": true
   },
   "outputs": [],
   "source": []
  }
 ],
 "metadata": {
  "kernelspec": {
   "display_name": "Python 3",
   "language": "python",
   "name": "python3"
  },
  "language_info": {
   "codemirror_mode": {
    "name": "ipython",
    "version": 3
   },
   "file_extension": ".py",
   "mimetype": "text/x-python",
   "name": "python",
   "nbconvert_exporter": "python",
   "pygments_lexer": "ipython3",
   "version": "3.6.0"
  }
 },
 "nbformat": 4,
 "nbformat_minor": 2
}
