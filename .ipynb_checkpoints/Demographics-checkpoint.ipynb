{
 "cells": [
  {
   "cell_type": "markdown",
   "metadata": {},
   "source": [
    "# Disparities in platform proximity by disability\n",
    "\n",
    "Some of the most powerful predictors of housing costs in NYC is proximity to trains and proximity to Manhattan. The exclusion of people with disabilities from the labor force pushes them towards lower cost neighborhoods where there is often lower density of train stations. However, one might expect that despite the lower density of stations, that less restrictive station designs and more open space might allow for a high portion of such stations to be accessible. \n",
    "\n",
    "Below is a map showing the locations of accessible (purple) and inaccessible (red) platforms overlaid on the distribution of people with ambulatory disabilities. Census tracts are shaded by the  counts of individuals with ambulatory disabilities.\n",
    "\n",
    "<iframe width=\"100%\" height=\"520\" src=\"https://gmork.carto.com/builder/858844d9-3cfb-45ba-a473-420e3b66e74d/embed\" allowfullscreen webkitallowfullscreen mozallowfullscreen oallowfullscreen msallowfullscreen></iframe>\n",
    "\n",
    "How well does the location of accessible stations correlate with where New Yorkers with disabilities live? We can compare the percentage of the population with disabilities living in census tracts with accessible stations with the expected value if we had picked station locations randomly. If stations were randomly located, the probability that a station falls within a given census tract $k$ is given by $A_k / A$ where $A$ is the combined area of all census tracts. Therefore the expected value for the number of people $N$ living in census tracts with $n$ randomly placed station is\n",
    "\n",
    "$$ n\\frac{\\sum_k N_kA_k}{A}$$\n",
    "\n",
    "Meanwhile we can directly calculate the portion of the population actually living in census tracts containing stations."
   ]
  },
  {
   "cell_type": "markdown",
   "metadata": {},
   "source": [
    "<iframe width=\"100%\" height=\"500\" src=\"https://cdn.rawgit.com/dylanbGIT/91069e72aa2e0ea11437449e4bf2b2b8/raw/df5b499034740f2254d8165589ac8745b66c99ec/index.html\" allowfullscreen webkitallowfullscreen mozallowfullscreen oallowfullscreen msallowfullscreen></iframe>\n",
    "\n",
    "The current placement of accessible subways stations tracks where people with disabilities less than if we placed those stations randomly! Meanwhile the location of subway stations generally is somewhat biased towards where the general population lives.\n",
    "\n",
    "The code for calculating these statistics is presented below:"
   ]
  },
  {
   "cell_type": "code",
   "execution_count": 2,
   "metadata": {
    "collapsed": true
   },
   "outputs": [],
   "source": [
    "import pandas as pd\n",
    "census = pd.read_csv('files/census.csv')\n",
    "stations = pd.read_csv('files/stations.csv')"
   ]
  },
  {
   "cell_type": "code",
   "execution_count": 3,
   "metadata": {
    "collapsed": false
   },
   "outputs": [
    {
     "name": "stdout",
     "output_type": "stream",
     "text": [
      "Expected value for total population: 4243.151932693473\n",
      "Expected value for population with disability: 466.8418798930708\n",
      "Expected value for population with ambulatory disability: 278.8872916558287\n"
     ]
    }
   ],
   "source": [
    "# calculate expected values for total population, population with disabilities, & population with ambulatory disabilities\n",
    "# n = 1 station\n",
    "allRand = float(sum(census['totalpop']*census['aland'])/sum(census['aland']))\n",
    "disRand = float(sum(census['totaldispop']*census['aland'])/sum(census['aland']))\n",
    "ambdisRand = float(sum(census['ambdispop']*census['aland'])/sum(census['aland']))\n",
    "\n",
    "print('Expected value for total population: ' + str(allRand))\n",
    "print('Expected value for population with disability: ' + str(disRand))\n",
    "print('Expected value for population with ambulatory disability: ' + str(ambdisRand))"
   ]
  },
  {
   "cell_type": "code",
   "execution_count": 4,
   "metadata": {
    "collapsed": false
   },
   "outputs": [
    {
     "name": "stdout",
     "output_type": "stream",
     "text": [
      "Actual value for total population: 4690.583509513742\n",
      "Actual value for population with disability: 422.2616822429907\n",
      "Actual value for population with ambulatory disability: 216.61682242990653\n"
     ]
    }
   ],
   "source": [
    "# calculate actual percentage of total population living near trains (normalized by n)\n",
    "allStat = float(sum(stations['totalpop']))/len(stations)\n",
    "# calculate actual percentage of pop w/ disability living near ACCESSIBLE trains (normalized by n)\n",
    "disStat = float(sum(stations[stations['accessible']]['totaldispop']))/len(stations[stations['accessible']])\n",
    "ambdisStat = float(sum(stations[stations['accessible']]['ambdispop']))/len(stations[stations['accessible']])\n",
    "\n",
    "print('Actual value for total population: ' + str(allStat))\n",
    "print('Actual value for population with disability: ' + str(disStat))\n",
    "print('Actual value for population with ambulatory disability: ' + str(ambdisStat))"
   ]
  },
  {
   "cell_type": "code",
   "execution_count": null,
   "metadata": {
    "collapsed": true
   },
   "outputs": [],
   "source": []
  }
 ],
 "metadata": {
  "kernelspec": {
   "display_name": "Python 3",
   "language": "python",
   "name": "python3"
  },
  "language_info": {
   "codemirror_mode": {
    "name": "ipython",
    "version": 3
   },
   "file_extension": ".py",
   "mimetype": "text/x-python",
   "name": "python",
   "nbconvert_exporter": "python",
   "pygments_lexer": "ipython3",
   "version": "3.6.0"
  }
 },
 "nbformat": 4,
 "nbformat_minor": 2
}
