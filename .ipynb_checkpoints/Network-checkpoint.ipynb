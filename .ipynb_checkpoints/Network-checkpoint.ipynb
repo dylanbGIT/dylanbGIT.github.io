{
 "cells": [
  {
   "cell_type": "markdown",
   "metadata": {},
   "source": [
    "# Graphing the subway\n",
    "\n",
    "Below is a network model of the NYC subway system. Each node corresponds with a platform. Inaccessible platforms are colored red while accessible ones are colored green. The size of the node reflects its degree (# of nearest neighbors). I am using this graph to guide strategies for identifying which platforms are most in need of upgrades base on connectivity to other platforms and centrality to the system as a whole.\n",
    "\n",
    "<iframe width=\"100%\" height=\"500\" src=\"https://cdn.rawgit.com/dylanbGIT/aed4b9474b9df3e700ed7a21402af287/raw/d548415d4ef57208099bf91deabe7df063f1c6ed/index.html\" allowfullscreen webkitallowfullscreen mozallowfullscreen oallowfullscreen msallowfullscreen></iframe>"
   ]
  },
  {
   "cell_type": "code",
   "execution_count": null,
   "metadata": {
    "collapsed": true
   },
   "outputs": [],
   "source": []
  }
 ],
 "metadata": {
  "kernelspec": {
   "display_name": "Python 3",
   "language": "python",
   "name": "python3"
  },
  "language_info": {
   "codemirror_mode": {
    "name": "ipython",
    "version": 3
   },
   "file_extension": ".py",
   "mimetype": "text/x-python",
   "name": "python",
   "nbconvert_exporter": "python",
   "pygments_lexer": "ipython3",
   "version": "3.6.0"
  }
 },
 "nbformat": 4,
 "nbformat_minor": 2
}
